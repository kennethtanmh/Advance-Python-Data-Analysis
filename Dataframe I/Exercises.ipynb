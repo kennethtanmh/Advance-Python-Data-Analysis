{
 "cells": [
  {
   "cell_type": "code",
   "execution_count": 1,
   "metadata": {},
   "outputs": [],
   "source": [
    "import pandas as pd"
   ]
  },
  {
   "cell_type": "code",
   "execution_count": 2,
   "metadata": {},
   "outputs": [],
   "source": [
    "nutrition = pd.read_csv('https://andybek.com/pandas-nutrition')"
   ]
  },
  {
   "cell_type": "markdown",
   "metadata": {},
   "source": [
    "1.1) Randomly select 10 food items and assign the resulting dataframe to a new variable called *nutr_mini*."
   ]
  },
  {
   "cell_type": "code",
   "execution_count": 3,
   "metadata": {},
   "outputs": [],
   "source": [
    "nutr_mini = nutrition.sample(10, axis=0)"
   ]
  },
  {
   "cell_type": "code",
   "execution_count": 4,
   "metadata": {},
   "outputs": [
    {
     "data": {
      "text/plain": [
       "(10, 77)"
      ]
     },
     "execution_count": 4,
     "metadata": {},
     "output_type": "execute_result"
    }
   ],
   "source": [
    "nutr_mini.shape"
   ]
  },
  {
   "cell_type": "markdown",
   "metadata": {},
   "source": [
    "1.2) From *nutr_mini*, extract the **total_fat** and **cholesterol** columns for all rows. "
   ]
  },
  {
   "cell_type": "code",
   "execution_count": 5,
   "metadata": {},
   "outputs": [
    {
     "data": {
      "text/html": [
       "<div>\n",
       "<style scoped>\n",
       "    .dataframe tbody tr th:only-of-type {\n",
       "        vertical-align: middle;\n",
       "    }\n",
       "\n",
       "    .dataframe tbody tr th {\n",
       "        vertical-align: top;\n",
       "    }\n",
       "\n",
       "    .dataframe thead th {\n",
       "        text-align: right;\n",
       "    }\n",
       "</style>\n",
       "<table border=\"1\" class=\"dataframe\">\n",
       "  <thead>\n",
       "    <tr style=\"text-align: right;\">\n",
       "      <th></th>\n",
       "      <th>total_fat</th>\n",
       "      <th>cholesterol</th>\n",
       "    </tr>\n",
       "  </thead>\n",
       "  <tbody>\n",
       "    <tr>\n",
       "      <th>7051</th>\n",
       "      <td>19g</td>\n",
       "      <td>40mg</td>\n",
       "    </tr>\n",
       "    <tr>\n",
       "      <th>4328</th>\n",
       "      <td>0.2g</td>\n",
       "      <td>0</td>\n",
       "    </tr>\n",
       "    <tr>\n",
       "      <th>264</th>\n",
       "      <td>1.7g</td>\n",
       "      <td>50mg</td>\n",
       "    </tr>\n",
       "    <tr>\n",
       "      <th>3664</th>\n",
       "      <td>48g</td>\n",
       "      <td>0</td>\n",
       "    </tr>\n",
       "    <tr>\n",
       "      <th>7004</th>\n",
       "      <td>0.6g</td>\n",
       "      <td>0</td>\n",
       "    </tr>\n",
       "    <tr>\n",
       "      <th>4233</th>\n",
       "      <td>2.4g</td>\n",
       "      <td>10mg</td>\n",
       "    </tr>\n",
       "    <tr>\n",
       "      <th>2835</th>\n",
       "      <td>13g</td>\n",
       "      <td>5mg</td>\n",
       "    </tr>\n",
       "    <tr>\n",
       "      <th>6980</th>\n",
       "      <td>1.6g</td>\n",
       "      <td>4mg</td>\n",
       "    </tr>\n",
       "    <tr>\n",
       "      <th>7093</th>\n",
       "      <td>1g</td>\n",
       "      <td>0</td>\n",
       "    </tr>\n",
       "    <tr>\n",
       "      <th>1873</th>\n",
       "      <td>15g</td>\n",
       "      <td>0</td>\n",
       "    </tr>\n",
       "  </tbody>\n",
       "</table>\n",
       "</div>"
      ],
      "text/plain": [
       "     total_fat cholesterol\n",
       "7051       19g        40mg\n",
       "4328      0.2g           0\n",
       "264       1.7g        50mg\n",
       "3664       48g           0\n",
       "7004      0.6g           0\n",
       "4233      2.4g        10mg\n",
       "2835       13g         5mg\n",
       "6980      1.6g         4mg\n",
       "7093        1g           0\n",
       "1873       15g           0"
      ]
     },
     "execution_count": 5,
     "metadata": {},
     "output_type": "execute_result"
    }
   ],
   "source": [
    "nutr_mini.loc[:, ['total_fat', 'cholesterol']]"
   ]
  },
  {
   "cell_type": "markdown",
   "metadata": {},
   "source": [
    "1.3) Extract all the columns from **vitamin_b12** to the end, for the first, second, and third rows."
   ]
  },
  {
   "cell_type": "code",
   "execution_count": 6,
   "metadata": {},
   "outputs": [],
   "source": [
    "#get the location of the column in the dataframe\n",
    "b12_loc = nutrition.columns.get_loc('vitamin_b12')"
   ]
  },
  {
   "cell_type": "code",
   "execution_count": 7,
   "metadata": {},
   "outputs": [
    {
     "data": {
      "text/html": [
       "<div>\n",
       "<style scoped>\n",
       "    .dataframe tbody tr th:only-of-type {\n",
       "        vertical-align: middle;\n",
       "    }\n",
       "\n",
       "    .dataframe tbody tr th {\n",
       "        vertical-align: top;\n",
       "    }\n",
       "\n",
       "    .dataframe thead th {\n",
       "        text-align: right;\n",
       "    }\n",
       "</style>\n",
       "<table border=\"1\" class=\"dataframe\">\n",
       "  <thead>\n",
       "    <tr style=\"text-align: right;\">\n",
       "      <th></th>\n",
       "      <th>vitamin_b12</th>\n",
       "      <th>vitamin_b6</th>\n",
       "      <th>vitamin_c</th>\n",
       "      <th>vitamin_d</th>\n",
       "      <th>vitamin_e</th>\n",
       "      <th>tocopherol_alpha</th>\n",
       "      <th>vitamin_k</th>\n",
       "      <th>calcium</th>\n",
       "      <th>copper</th>\n",
       "      <th>irom</th>\n",
       "      <th>...</th>\n",
       "      <th>fat</th>\n",
       "      <th>saturated_fatty_acids</th>\n",
       "      <th>monounsaturated_fatty_acids</th>\n",
       "      <th>polyunsaturated_fatty_acids</th>\n",
       "      <th>fatty_acids_total_trans</th>\n",
       "      <th>alcohol</th>\n",
       "      <th>ash</th>\n",
       "      <th>caffeine</th>\n",
       "      <th>theobromine</th>\n",
       "      <th>water</th>\n",
       "    </tr>\n",
       "  </thead>\n",
       "  <tbody>\n",
       "    <tr>\n",
       "      <th>0</th>\n",
       "      <td>0.00 mcg</td>\n",
       "      <td>0.000 mg</td>\n",
       "      <td>0.0 mg</td>\n",
       "      <td>0.00 IU</td>\n",
       "      <td>0.00 mg</td>\n",
       "      <td>0.00 mg</td>\n",
       "      <td>0.0 mcg</td>\n",
       "      <td>2.00 mg</td>\n",
       "      <td>0.050 mg</td>\n",
       "      <td>0.47 mg</td>\n",
       "      <td>...</td>\n",
       "      <td>0.05 g</td>\n",
       "      <td>0.009 g</td>\n",
       "      <td>0.016 g</td>\n",
       "      <td>0.025 g</td>\n",
       "      <td>0.00 mg</td>\n",
       "      <td>0.0 g</td>\n",
       "      <td>0.09 g</td>\n",
       "      <td>0.00 mg</td>\n",
       "      <td>0.00 mg</td>\n",
       "      <td>8.32 g</td>\n",
       "    </tr>\n",
       "    <tr>\n",
       "      <th>1</th>\n",
       "      <td>0.00 mcg</td>\n",
       "      <td>0.210 mg</td>\n",
       "      <td>1.1 mg</td>\n",
       "      <td>0.00 IU</td>\n",
       "      <td>1.40 mg</td>\n",
       "      <td>1.40 mg</td>\n",
       "      <td>3.5 mcg</td>\n",
       "      <td>70.00 mg</td>\n",
       "      <td>1.200 mg</td>\n",
       "      <td>2.53 mg</td>\n",
       "      <td>...</td>\n",
       "      <td>71.97 g</td>\n",
       "      <td>6.180 g</td>\n",
       "      <td>40.801 g</td>\n",
       "      <td>21.614 g</td>\n",
       "      <td>0.00 mg</td>\n",
       "      <td>0.0 g</td>\n",
       "      <td>1.49 g</td>\n",
       "      <td>0.00 mg</td>\n",
       "      <td>0.00 mg</td>\n",
       "      <td>3.52 g</td>\n",
       "    </tr>\n",
       "  </tbody>\n",
       "</table>\n",
       "<p>2 rows × 55 columns</p>\n",
       "</div>"
      ],
      "text/plain": [
       "  vitamin_b12 vitamin_b6 vitamin_c vitamin_d vitamin_e tocopherol_alpha  \\\n",
       "0    0.00 mcg   0.000 mg    0.0 mg   0.00 IU   0.00 mg          0.00 mg   \n",
       "1    0.00 mcg   0.210 mg    1.1 mg   0.00 IU   1.40 mg          1.40 mg   \n",
       "\n",
       "  vitamin_k   calcium    copper     irom  ...      fat saturated_fatty_acids  \\\n",
       "0   0.0 mcg   2.00 mg  0.050 mg  0.47 mg  ...   0.05 g               0.009 g   \n",
       "1   3.5 mcg  70.00 mg  1.200 mg  2.53 mg  ...  71.97 g               6.180 g   \n",
       "\n",
       "  monounsaturated_fatty_acids polyunsaturated_fatty_acids  \\\n",
       "0                     0.016 g                     0.025 g   \n",
       "1                    40.801 g                    21.614 g   \n",
       "\n",
       "  fatty_acids_total_trans alcohol     ash caffeine theobromine   water  \n",
       "0                 0.00 mg   0.0 g  0.09 g  0.00 mg     0.00 mg  8.32 g  \n",
       "1                 0.00 mg   0.0 g  1.49 g  0.00 mg     0.00 mg  3.52 g  \n",
       "\n",
       "[2 rows x 55 columns]"
      ]
     },
     "execution_count": 7,
     "metadata": {},
     "output_type": "execute_result"
    }
   ],
   "source": [
    "nutrition.iloc[0:2,b12_loc:]"
   ]
  },
  {
   "cell_type": "markdown",
   "metadata": {},
   "source": [
    "1.4) Get the calories for the third food in *nutr_mini* using an attribute-based approach that is faster than .loc or .iloc. "
   ]
  },
  {
   "cell_type": "code",
   "execution_count": 8,
   "metadata": {},
   "outputs": [
    {
     "data": {
      "text/plain": [
       "96"
      ]
     },
     "execution_count": 8,
     "metadata": {},
     "output_type": "execute_result"
    }
   ],
   "source": [
    "nutr_mini.iat[2,3]"
   ]
  },
  {
   "cell_type": "markdown",
   "metadata": {},
   "source": [
    "2.1) Find the 10 foods that have the most Vitamin B12. What do they have in common?"
   ]
  },
  {
   "cell_type": "markdown",
   "metadata": {},
   "source": []
  },
  {
   "cell_type": "code",
   "execution_count": 12,
   "metadata": {},
   "outputs": [
    {
     "name": "stdout",
     "output_type": "stream",
     "text": [
      "<class 'pandas.core.frame.DataFrame'>\n",
      "RangeIndex: 8789 entries, 0 to 8788\n",
      "Data columns (total 77 columns):\n",
      " #   Column                       Non-Null Count  Dtype \n",
      "---  ------                       --------------  ----- \n",
      " 0   Unnamed: 0                   8789 non-null   int64 \n",
      " 1   name                         8789 non-null   object\n",
      " 2   serving_size                 8789 non-null   object\n",
      " 3   calories                     8789 non-null   int64 \n",
      " 4   total_fat                    8789 non-null   object\n",
      " 5   saturated_fat                7199 non-null   object\n",
      " 6   cholesterol                  8789 non-null   object\n",
      " 7   sodium                       8789 non-null   object\n",
      " 8   choline                      8789 non-null   object\n",
      " 9   folate                       8789 non-null   object\n",
      " 10  folic_acid                   8789 non-null   object\n",
      " 11  niacin                       8789 non-null   object\n",
      " 12  pantothenic_acid             8789 non-null   object\n",
      " 13  riboflavin                   8789 non-null   object\n",
      " 14  thiamin                      8789 non-null   object\n",
      " 15  vitamin_a                    8789 non-null   object\n",
      " 16  vitamin_a_rae                8789 non-null   object\n",
      " 17  carotene_alpha               8789 non-null   object\n",
      " 18  carotene_beta                8789 non-null   object\n",
      " 19  cryptoxanthin_beta           8789 non-null   object\n",
      " 20  lutein_zeaxanthin            8789 non-null   object\n",
      " 21  lucopene                     8789 non-null   int64 \n",
      " 22  vitamin_b12                  8789 non-null   object\n",
      " 23  vitamin_b6                   8789 non-null   object\n",
      " 24  vitamin_c                    8789 non-null   object\n",
      " 25  vitamin_d                    8789 non-null   object\n",
      " 26  vitamin_e                    8789 non-null   object\n",
      " 27  tocopherol_alpha             8789 non-null   object\n",
      " 28  vitamin_k                    8789 non-null   object\n",
      " 29  calcium                      8789 non-null   object\n",
      " 30  copper                       8789 non-null   object\n",
      " 31  irom                         8789 non-null   object\n",
      " 32  magnesium                    8789 non-null   object\n",
      " 33  manganese                    8789 non-null   object\n",
      " 34  phosphorous                  8789 non-null   object\n",
      " 35  potassium                    8789 non-null   object\n",
      " 36  selenium                     8789 non-null   object\n",
      " 37  zink                         8789 non-null   object\n",
      " 38  protein                      8789 non-null   object\n",
      " 39  alanine                      8789 non-null   object\n",
      " 40  arginine                     8789 non-null   object\n",
      " 41  aspartic_acid                8789 non-null   object\n",
      " 42  cystine                      8789 non-null   object\n",
      " 43  glutamic_acid                8789 non-null   object\n",
      " 44  glycine                      8789 non-null   object\n",
      " 45  histidine                    8789 non-null   object\n",
      " 46  hydroxyproline               8789 non-null   object\n",
      " 47  isoleucine                   8789 non-null   object\n",
      " 48  leucine                      8789 non-null   object\n",
      " 49  lysine                       8789 non-null   object\n",
      " 50  methionine                   8789 non-null   object\n",
      " 51  phenylalanine                8789 non-null   object\n",
      " 52  proline                      8789 non-null   object\n",
      " 53  serine                       8789 non-null   object\n",
      " 54  threonine                    8789 non-null   object\n",
      " 55  tryptophan                   8789 non-null   object\n",
      " 56  tyrosine                     8789 non-null   object\n",
      " 57  valine                       8789 non-null   object\n",
      " 58  carbohydrate                 8789 non-null   object\n",
      " 59  fiber                        8789 non-null   object\n",
      " 60  sugars                       8789 non-null   object\n",
      " 61  fructose                     8789 non-null   object\n",
      " 62  galactose                    8789 non-null   object\n",
      " 63  glucose                      8789 non-null   object\n",
      " 64  lactose                      8789 non-null   object\n",
      " 65  maltose                      8789 non-null   object\n",
      " 66  sucrose                      8789 non-null   object\n",
      " 67  fat                          8789 non-null   object\n",
      " 68  saturated_fatty_acids        8789 non-null   object\n",
      " 69  monounsaturated_fatty_acids  8789 non-null   object\n",
      " 70  polyunsaturated_fatty_acids  8789 non-null   object\n",
      " 71  fatty_acids_total_trans      8789 non-null   object\n",
      " 72  alcohol                      8789 non-null   object\n",
      " 73  ash                          8789 non-null   object\n",
      " 74  caffeine                     8789 non-null   object\n",
      " 75  theobromine                  8789 non-null   object\n",
      " 76  water                        8789 non-null   object\n",
      "dtypes: int64(3), object(74)\n",
      "memory usage: 5.2+ MB\n"
     ]
    }
   ],
   "source": [
    "nutrition.info()"
   ]
  },
  {
   "cell_type": "markdown",
   "metadata": {},
   "source": [
    "For the remaining exercises refer to the main notebook."
   ]
  },
  {
   "cell_type": "markdown",
   "metadata": {},
   "source": []
  }
 ],
 "metadata": {
  "kernelspec": {
   "display_name": "Python 3",
   "language": "python",
   "name": "python3"
  },
  "language_info": {
   "codemirror_mode": {
    "name": "ipython",
    "version": 3
   },
   "file_extension": ".py",
   "mimetype": "text/x-python",
   "name": "python",
   "nbconvert_exporter": "python",
   "pygments_lexer": "ipython3",
   "version": "3.11.4"
  },
  "orig_nbformat": 4
 },
 "nbformat": 4,
 "nbformat_minor": 2
}
